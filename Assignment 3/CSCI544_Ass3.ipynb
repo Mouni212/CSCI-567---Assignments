{
  "nbformat": 4,
  "nbformat_minor": 0,
  "metadata": {
    "colab": {
      "provenance": [],
      "collapsed_sections": [
        "FH7ddAYc35iG"
      ]
    },
    "kernelspec": {
      "name": "python3",
      "display_name": "Python 3"
    },
    "language_info": {
      "name": "python"
    }
  },
  "cells": [
    {
      "cell_type": "code",
      "execution_count": 207,
      "metadata": {
        "id": "puIm65rBKMaI"
      },
      "outputs": [],
      "source": [
        "import pandas as pd\n",
        "import numpy as np\n",
        "import re"
      ]
    },
    {
      "cell_type": "code",
      "source": [
        "from google.colab import files\n",
        "uploads = files.upload()"
      ],
      "metadata": {
        "colab": {
          "base_uri": "https://localhost:8080/",
          "height": 142
        },
        "id": "T67OcAmEKiiU",
        "outputId": "12149ef0-5f91-49fd-be5f-fb949a7de839"
      },
      "execution_count": null,
      "outputs": [
        {
          "output_type": "display_data",
          "data": {
            "text/plain": [
              "<IPython.core.display.HTML object>"
            ],
            "text/html": [
              "\n",
              "     <input type=\"file\" id=\"files-34907911-fc87-47e3-80f1-7f11ee331b7c\" name=\"files[]\" multiple disabled\n",
              "        style=\"border:none\" />\n",
              "     <output id=\"result-34907911-fc87-47e3-80f1-7f11ee331b7c\">\n",
              "      Upload widget is only available when the cell has been executed in the\n",
              "      current browser session. Please rerun this cell to enable.\n",
              "      </output>\n",
              "      <script>// Copyright 2017 Google LLC\n",
              "//\n",
              "// Licensed under the Apache License, Version 2.0 (the \"License\");\n",
              "// you may not use this file except in compliance with the License.\n",
              "// You may obtain a copy of the License at\n",
              "//\n",
              "//      http://www.apache.org/licenses/LICENSE-2.0\n",
              "//\n",
              "// Unless required by applicable law or agreed to in writing, software\n",
              "// distributed under the License is distributed on an \"AS IS\" BASIS,\n",
              "// WITHOUT WARRANTIES OR CONDITIONS OF ANY KIND, either express or implied.\n",
              "// See the License for the specific language governing permissions and\n",
              "// limitations under the License.\n",
              "\n",
              "/**\n",
              " * @fileoverview Helpers for google.colab Python module.\n",
              " */\n",
              "(function(scope) {\n",
              "function span(text, styleAttributes = {}) {\n",
              "  const element = document.createElement('span');\n",
              "  element.textContent = text;\n",
              "  for (const key of Object.keys(styleAttributes)) {\n",
              "    element.style[key] = styleAttributes[key];\n",
              "  }\n",
              "  return element;\n",
              "}\n",
              "\n",
              "// Max number of bytes which will be uploaded at a time.\n",
              "const MAX_PAYLOAD_SIZE = 100 * 1024;\n",
              "\n",
              "function _uploadFiles(inputId, outputId) {\n",
              "  const steps = uploadFilesStep(inputId, outputId);\n",
              "  const outputElement = document.getElementById(outputId);\n",
              "  // Cache steps on the outputElement to make it available for the next call\n",
              "  // to uploadFilesContinue from Python.\n",
              "  outputElement.steps = steps;\n",
              "\n",
              "  return _uploadFilesContinue(outputId);\n",
              "}\n",
              "\n",
              "// This is roughly an async generator (not supported in the browser yet),\n",
              "// where there are multiple asynchronous steps and the Python side is going\n",
              "// to poll for completion of each step.\n",
              "// This uses a Promise to block the python side on completion of each step,\n",
              "// then passes the result of the previous step as the input to the next step.\n",
              "function _uploadFilesContinue(outputId) {\n",
              "  const outputElement = document.getElementById(outputId);\n",
              "  const steps = outputElement.steps;\n",
              "\n",
              "  const next = steps.next(outputElement.lastPromiseValue);\n",
              "  return Promise.resolve(next.value.promise).then((value) => {\n",
              "    // Cache the last promise value to make it available to the next\n",
              "    // step of the generator.\n",
              "    outputElement.lastPromiseValue = value;\n",
              "    return next.value.response;\n",
              "  });\n",
              "}\n",
              "\n",
              "/**\n",
              " * Generator function which is called between each async step of the upload\n",
              " * process.\n",
              " * @param {string} inputId Element ID of the input file picker element.\n",
              " * @param {string} outputId Element ID of the output display.\n",
              " * @return {!Iterable<!Object>} Iterable of next steps.\n",
              " */\n",
              "function* uploadFilesStep(inputId, outputId) {\n",
              "  const inputElement = document.getElementById(inputId);\n",
              "  inputElement.disabled = false;\n",
              "\n",
              "  const outputElement = document.getElementById(outputId);\n",
              "  outputElement.innerHTML = '';\n",
              "\n",
              "  const pickedPromise = new Promise((resolve) => {\n",
              "    inputElement.addEventListener('change', (e) => {\n",
              "      resolve(e.target.files);\n",
              "    });\n",
              "  });\n",
              "\n",
              "  const cancel = document.createElement('button');\n",
              "  inputElement.parentElement.appendChild(cancel);\n",
              "  cancel.textContent = 'Cancel upload';\n",
              "  const cancelPromise = new Promise((resolve) => {\n",
              "    cancel.onclick = () => {\n",
              "      resolve(null);\n",
              "    };\n",
              "  });\n",
              "\n",
              "  // Wait for the user to pick the files.\n",
              "  const files = yield {\n",
              "    promise: Promise.race([pickedPromise, cancelPromise]),\n",
              "    response: {\n",
              "      action: 'starting',\n",
              "    }\n",
              "  };\n",
              "\n",
              "  cancel.remove();\n",
              "\n",
              "  // Disable the input element since further picks are not allowed.\n",
              "  inputElement.disabled = true;\n",
              "\n",
              "  if (!files) {\n",
              "    return {\n",
              "      response: {\n",
              "        action: 'complete',\n",
              "      }\n",
              "    };\n",
              "  }\n",
              "\n",
              "  for (const file of files) {\n",
              "    const li = document.createElement('li');\n",
              "    li.append(span(file.name, {fontWeight: 'bold'}));\n",
              "    li.append(span(\n",
              "        `(${file.type || 'n/a'}) - ${file.size} bytes, ` +\n",
              "        `last modified: ${\n",
              "            file.lastModifiedDate ? file.lastModifiedDate.toLocaleDateString() :\n",
              "                                    'n/a'} - `));\n",
              "    const percent = span('0% done');\n",
              "    li.appendChild(percent);\n",
              "\n",
              "    outputElement.appendChild(li);\n",
              "\n",
              "    const fileDataPromise = new Promise((resolve) => {\n",
              "      const reader = new FileReader();\n",
              "      reader.onload = (e) => {\n",
              "        resolve(e.target.result);\n",
              "      };\n",
              "      reader.readAsArrayBuffer(file);\n",
              "    });\n",
              "    // Wait for the data to be ready.\n",
              "    let fileData = yield {\n",
              "      promise: fileDataPromise,\n",
              "      response: {\n",
              "        action: 'continue',\n",
              "      }\n",
              "    };\n",
              "\n",
              "    // Use a chunked sending to avoid message size limits. See b/62115660.\n",
              "    let position = 0;\n",
              "    do {\n",
              "      const length = Math.min(fileData.byteLength - position, MAX_PAYLOAD_SIZE);\n",
              "      const chunk = new Uint8Array(fileData, position, length);\n",
              "      position += length;\n",
              "\n",
              "      const base64 = btoa(String.fromCharCode.apply(null, chunk));\n",
              "      yield {\n",
              "        response: {\n",
              "          action: 'append',\n",
              "          file: file.name,\n",
              "          data: base64,\n",
              "        },\n",
              "      };\n",
              "\n",
              "      let percentDone = fileData.byteLength === 0 ?\n",
              "          100 :\n",
              "          Math.round((position / fileData.byteLength) * 100);\n",
              "      percent.textContent = `${percentDone}% done`;\n",
              "\n",
              "    } while (position < fileData.byteLength);\n",
              "  }\n",
              "\n",
              "  // All done.\n",
              "  yield {\n",
              "    response: {\n",
              "      action: 'complete',\n",
              "    }\n",
              "  };\n",
              "}\n",
              "\n",
              "scope.google = scope.google || {};\n",
              "scope.google.colab = scope.google.colab || {};\n",
              "scope.google.colab._files = {\n",
              "  _uploadFiles,\n",
              "  _uploadFilesContinue,\n",
              "};\n",
              "})(self);\n",
              "</script> "
            ]
          },
          "metadata": {}
        },
        {
          "output_type": "stream",
          "name": "stdout",
          "text": [
            "Saving dev to dev (1)\n",
            "Saving test to test (1)\n",
            "Saving train to train (1)\n"
          ]
        }
      ]
    },
    {
      "cell_type": "code",
      "source": [
        "train_data = pd.read_csv(\"train\", sep='\\t', header=None, engine='python')\n",
        "test_data = pd.read_csv(\"test\", sep=\"\\t\", header=None, engine=\"python\")\n",
        "dev_data = pd.read_csv('dev', sep='\\t', header=None, engine='python')"
      ],
      "metadata": {
        "id": "mlzUPH9OKRMi"
      },
      "execution_count": 208,
      "outputs": []
    },
    {
      "cell_type": "code",
      "source": [
        "vocab = pd.DataFrame(train_data[1])\n",
        "print(vocab.head())"
      ],
      "metadata": {
        "colab": {
          "base_uri": "https://localhost:8080/"
        },
        "id": "9R3hJOhUPpH5",
        "outputId": "53996263-e3cd-4344-8f87-170dbe75c985"
      },
      "execution_count": 209,
      "outputs": [
        {
          "output_type": "stream",
          "name": "stdout",
          "text": [
            "        1\n",
            "0  Pierre\n",
            "1  Vinken\n",
            "2       ,\n",
            "3      61\n",
            "4   years\n"
          ]
        }
      ]
    },
    {
      "cell_type": "code",
      "source": [
        "# Number of rows in the given training data\n",
        "print(\"Number of rows in the given training data: \")\n",
        "print(len(vocab))\n",
        "print(\"\\n\")"
      ],
      "metadata": {
        "colab": {
          "base_uri": "https://localhost:8080/"
        },
        "id": "2tRI5LGwLXMh",
        "outputId": "bc1fb556-d9c7-4478-d898-810526a94ed3"
      },
      "execution_count": 210,
      "outputs": [
        {
          "output_type": "stream",
          "name": "stdout",
          "text": [
            "912095\n"
          ]
        }
      ]
    },
    {
      "cell_type": "code",
      "source": [
        "#Adding another column just to make it easier to sum up\n",
        "vocab[2] = 1"
      ],
      "metadata": {
        "id": "uGNEJj2P1LQg"
      },
      "execution_count": 211,
      "outputs": []
    },
    {
      "cell_type": "code",
      "source": [
        "# Summing up all the rows based on words index at 1\n",
        "\n",
        "vocab['sum'] = vocab.groupby([1])[2].transform('sum')\n",
        "\n",
        "print(vocab.shape)"
      ],
      "metadata": {
        "colab": {
          "base_uri": "https://localhost:8080/"
        },
        "id": "3RwBV_7tOBI0",
        "outputId": "b1a415fe-6139-4f32-a4e6-1ce21c5c0504"
      },
      "execution_count": 212,
      "outputs": [
        {
          "output_type": "stream",
          "name": "stdout",
          "text": [
            "(912095, 3)\n"
          ]
        }
      ]
    },
    {
      "cell_type": "code",
      "source": [
        "#Replacing all the words indexed at 1 whose count is less than 3 with 'unk'\n",
        "\n",
        "vocab.loc[vocab['sum'] < 3, 1] = 'unk'"
      ],
      "metadata": {
        "id": "-YJ8HUvNRYXD"
      },
      "execution_count": 213,
      "outputs": []
    },
    {
      "cell_type": "code",
      "source": [
        "# summing up again since we replaced a few words with 'unk'\n",
        "\n",
        "vocab['sum'] = vocab.groupby([1])[2].transform('sum')"
      ],
      "metadata": {
        "id": "pnbEyyBMSA9S"
      },
      "execution_count": 214,
      "outputs": []
    },
    {
      "cell_type": "code",
      "source": [
        "# dropping duplicate words\n",
        "\n",
        "vocab = vocab.drop_duplicates([1, 2])"
      ],
      "metadata": {
        "id": "9GNVYwXsRLab"
      },
      "execution_count": 215,
      "outputs": []
    },
    {
      "cell_type": "code",
      "source": [
        "# Number of vocab words after preprocessing\n",
        "print(\"Final vocab size:\")\n",
        "print(vocab.shape)\n",
        "print(\"\\n\")"
      ],
      "metadata": {
        "colab": {
          "base_uri": "https://localhost:8080/"
        },
        "id": "4RNL3EwhRMTw",
        "outputId": "759bfd2c-fbdb-4aa8-bac5-f70f914a6bd0"
      },
      "execution_count": 216,
      "outputs": [
        {
          "output_type": "stream",
          "name": "stdout",
          "text": [
            "(16920, 3)\n"
          ]
        }
      ]
    },
    {
      "cell_type": "code",
      "source": [
        "# Getting unknown row first and sorting the remaining words based on word count\n",
        "unk_row = vocab[vocab[1]=='unk']\n",
        "remaining_vocab = vocab[vocab[1]!='unk'].sort_values(by='sum', ascending=False)"
      ],
      "metadata": {
        "id": "UHB5H_L7PQgm"
      },
      "execution_count": 217,
      "outputs": []
    },
    {
      "cell_type": "code",
      "source": [
        "# Writing the vocab to vocab.txt file\n",
        "\n",
        "vocab_output_file = 'vocab.txt'\n",
        "with open(vocab_output_file, 'w') as file:\n",
        "  file.write(str(unk_row[1].values[0]) + \"\\t\" + \"0\" + \"\\t\" + str(unk_row['sum'].values[0]) + \"\\n\")\n",
        "  j = 1\n",
        "  for index, row in remaining_vocab.iterrows():\n",
        "    file.write(str(row[1]) + \"\\t\" + str(j) + \"\\t\" + str(row['sum']) + '\\n')\n",
        "    j = j+1"
      ],
      "metadata": {
        "id": "zblqzLddPzvl"
      },
      "execution_count": 218,
      "outputs": []
    },
    {
      "cell_type": "code",
      "source": [
        "# vcoab.txt is saved on google colab, this command helps to download to local system\n",
        "from google.colab import files\n",
        "files.download(vocab_output_file)"
      ],
      "metadata": {
        "colab": {
          "base_uri": "https://localhost:8080/",
          "height": 17
        },
        "id": "2S7EH45uCWea",
        "outputId": "5ac3e1d0-f19c-4089-ae60-ffa71d3b033b"
      },
      "execution_count": 219,
      "outputs": [
        {
          "output_type": "display_data",
          "data": {
            "text/plain": [
              "<IPython.core.display.Javascript object>"
            ],
            "application/javascript": [
              "\n",
              "    async function download(id, filename, size) {\n",
              "      if (!google.colab.kernel.accessAllowed) {\n",
              "        return;\n",
              "      }\n",
              "      const div = document.createElement('div');\n",
              "      const label = document.createElement('label');\n",
              "      label.textContent = `Downloading \"${filename}\": `;\n",
              "      div.appendChild(label);\n",
              "      const progress = document.createElement('progress');\n",
              "      progress.max = size;\n",
              "      div.appendChild(progress);\n",
              "      document.body.appendChild(div);\n",
              "\n",
              "      const buffers = [];\n",
              "      let downloaded = 0;\n",
              "\n",
              "      const channel = await google.colab.kernel.comms.open(id);\n",
              "      // Send a message to notify the kernel that we're ready.\n",
              "      channel.send({})\n",
              "\n",
              "      for await (const message of channel.messages) {\n",
              "        // Send a message to notify the kernel that we're ready.\n",
              "        channel.send({})\n",
              "        if (message.buffers) {\n",
              "          for (const buffer of message.buffers) {\n",
              "            buffers.push(buffer);\n",
              "            downloaded += buffer.byteLength;\n",
              "            progress.value = downloaded;\n",
              "          }\n",
              "        }\n",
              "      }\n",
              "      const blob = new Blob(buffers, {type: 'application/binary'});\n",
              "      const a = document.createElement('a');\n",
              "      a.href = window.URL.createObjectURL(blob);\n",
              "      a.download = filename;\n",
              "      div.appendChild(a);\n",
              "      a.click();\n",
              "      div.remove();\n",
              "    }\n",
              "  "
            ]
          },
          "metadata": {}
        },
        {
          "output_type": "display_data",
          "data": {
            "text/plain": [
              "<IPython.core.display.Javascript object>"
            ],
            "application/javascript": [
              "download(\"download_e445b0e2-e2c8-4667-bde3-41553bb26729\", \"vocab.txt\", 269593)"
            ]
          },
          "metadata": {}
        }
      ]
    },
    {
      "cell_type": "markdown",
      "source": [
        "#Model Learning\n"
      ],
      "metadata": {
        "id": "EVw67H0UwbwF"
      }
    },
    {
      "cell_type": "code",
      "source": [
        "#Transition probabilities\n",
        "from collections import defaultdict\n",
        "\n",
        "prev_index = 0\n",
        "prev_tag = '<S>'\n",
        "end_tag = '<E>'\n",
        "transition = defaultdict(int)\n",
        "tag_count = defaultdict(int)\n",
        "belief_states = {}\n",
        "\n",
        "for i, row in train_data.iterrows():\n",
        "  current_index = row[0]\n",
        "  current_tag = row[2]\n",
        "\n",
        "  tag_count[current_tag] = tag_count[current_tag] + 1\n",
        "  if(i==0):\n",
        "    tag_count[prev_tag] = tag_count[prev_tag] + 1\n",
        "  if(current_index == 1 and i!=0):\n",
        "    states = (prev_tag, end_tag)\n",
        "    transition[states] = transition[states] + 1\n",
        "    prev_tag = '<S>'\n",
        "    tag_count[prev_tag] = tag_count[prev_tag] + 1\n",
        "\n",
        "  #if current_index > prev_index:\n",
        "  states = (prev_tag, current_tag)\n",
        "  prev_tag = current_tag\n",
        "  transition[states] = transition[states] + 1\n",
        "\n",
        "for states, value in transition.items():\n",
        "  transition[states] = value/tag_count[states[0]]\n"
      ],
      "metadata": {
        "id": "_2_n_opHwd-d"
      },
      "execution_count": 220,
      "outputs": []
    },
    {
      "cell_type": "code",
      "source": [
        "print(len(transition))"
      ],
      "metadata": {
        "colab": {
          "base_uri": "https://localhost:8080/"
        },
        "id": "I7wLC6QR5wq8",
        "outputId": "99a1bf71-5ed9-4a08-b219-a46325d92729"
      },
      "execution_count": 221,
      "outputs": [
        {
          "output_type": "stream",
          "name": "stdout",
          "text": [
            "1416\n"
          ]
        }
      ]
    },
    {
      "cell_type": "code",
      "source": [
        "#emission probabilities\n",
        "emission = defaultdict(int)\n",
        "tags = defaultdict(int)\n",
        "\n",
        "for i, row in train_data.iterrows():\n",
        "  tag = row[2]\n",
        "  word = row[1]\n",
        "  tags[tag] = tags[tag] + 1\n",
        "  em = (tag, word)\n",
        "  emission[em] = emission[em] + 1\n",
        "\n",
        "for em, value in emission.items():\n",
        "  emission[em] = value/tags[em[0]]\n"
      ],
      "metadata": {
        "id": "0FfxrAk04DWA"
      },
      "execution_count": 222,
      "outputs": []
    },
    {
      "cell_type": "code",
      "source": [
        "print(len(emission))"
      ],
      "metadata": {
        "colab": {
          "base_uri": "https://localhost:8080/"
        },
        "id": "OcPi0nn86KDX",
        "outputId": "f4f69756-743b-46ca-90ba-a3d98e660dbd"
      },
      "execution_count": 223,
      "outputs": [
        {
          "output_type": "stream",
          "name": "stdout",
          "text": [
            "50286\n"
          ]
        }
      ]
    },
    {
      "cell_type": "code",
      "source": [
        "# Writing emission and transition probabilities to hmm.json file\n",
        "\n",
        "import json\n",
        "\n",
        "transition_dict = {str(k): v for k, v in transition.items()}\n",
        "emission_dict = {str(k): v for k, v in emission.items()}\n",
        "\n",
        "model_dict = {\n",
        "  'transition': transition_dict,\n",
        "  'emission': emission_dict\n",
        "}\n",
        "\n",
        "with open('hmm.json', 'w') as f:\n",
        "  json.dump(model_dict, f, indent=4)"
      ],
      "metadata": {
        "id": "i20rRlzHViyk"
      },
      "execution_count": 224,
      "outputs": []
    },
    {
      "cell_type": "code",
      "source": [
        "files.download('hmm.json')"
      ],
      "metadata": {
        "colab": {
          "base_uri": "https://localhost:8080/",
          "height": 17
        },
        "id": "eo0XgZjxxisO",
        "outputId": "d88e0fe5-bac0-4d7d-85e2-12a7cde0b482"
      },
      "execution_count": 225,
      "outputs": [
        {
          "output_type": "display_data",
          "data": {
            "text/plain": [
              "<IPython.core.display.Javascript object>"
            ],
            "application/javascript": [
              "\n",
              "    async function download(id, filename, size) {\n",
              "      if (!google.colab.kernel.accessAllowed) {\n",
              "        return;\n",
              "      }\n",
              "      const div = document.createElement('div');\n",
              "      const label = document.createElement('label');\n",
              "      label.textContent = `Downloading \"${filename}\": `;\n",
              "      div.appendChild(label);\n",
              "      const progress = document.createElement('progress');\n",
              "      progress.max = size;\n",
              "      div.appendChild(progress);\n",
              "      document.body.appendChild(div);\n",
              "\n",
              "      const buffers = [];\n",
              "      let downloaded = 0;\n",
              "\n",
              "      const channel = await google.colab.kernel.comms.open(id);\n",
              "      // Send a message to notify the kernel that we're ready.\n",
              "      channel.send({})\n",
              "\n",
              "      for await (const message of channel.messages) {\n",
              "        // Send a message to notify the kernel that we're ready.\n",
              "        channel.send({})\n",
              "        if (message.buffers) {\n",
              "          for (const buffer of message.buffers) {\n",
              "            buffers.push(buffer);\n",
              "            downloaded += buffer.byteLength;\n",
              "            progress.value = downloaded;\n",
              "          }\n",
              "        }\n",
              "      }\n",
              "      const blob = new Blob(buffers, {type: 'application/binary'});\n",
              "      const a = document.createElement('a');\n",
              "      a.href = window.URL.createObjectURL(blob);\n",
              "      a.download = filename;\n",
              "      div.appendChild(a);\n",
              "      a.click();\n",
              "      div.remove();\n",
              "    }\n",
              "  "
            ]
          },
          "metadata": {}
        },
        {
          "output_type": "display_data",
          "data": {
            "text/plain": [
              "<IPython.core.display.Javascript object>"
            ],
            "application/javascript": [
              "download(\"download_0d84ba19-a08c-4e93-a25f-acb68df4b2aa\", \"hmm.json\", 2750189)"
            ]
          },
          "metadata": {}
        }
      ]
    },
    {
      "cell_type": "markdown",
      "source": [
        "#Greedy Decoding"
      ],
      "metadata": {
        "id": "ELT-cMA559R5"
      }
    },
    {
      "cell_type": "code",
      "source": [
        "def greedy(input_data):\n",
        "  for i, row in input_data.iterrows():\n",
        "    max_prob = -1\n",
        "    current_word = row[1]\n",
        "    current_index = row[0]\n",
        "    if(current_index==1):\n",
        "      prev_tag = '<S>'\n",
        "    for tag in tags:\n",
        "      prob = transition.get((prev_tag, tag), 0.01)*emission.get((tag, current_word), 0.0000001)\n",
        "      if(prob>max_prob):\n",
        "        max_prob=prob\n",
        "        max_tag = tag\n",
        "    prev_tag = max_tag\n",
        "    input_data.loc[i, 'predict'] = max_tag\n",
        "\n",
        "def get_accuracy(input_data):\n",
        "  total = 0\n",
        "  positives = 0\n",
        "  for i, row in input_data.iterrows():\n",
        "    total = total + 1\n",
        "    if(row[2]==row['predict']):\n",
        "      positives = positives + 1\n",
        "\n",
        "  accuracy = positives/total\n",
        "  return accuracy\n"
      ],
      "metadata": {
        "id": "iFfggWc05_8L"
      },
      "execution_count": 226,
      "outputs": []
    },
    {
      "cell_type": "code",
      "source": [
        "greedy(dev_data)"
      ],
      "metadata": {
        "id": "2sTzvL3V_OeD"
      },
      "execution_count": 227,
      "outputs": []
    },
    {
      "cell_type": "code",
      "source": [
        "get_accuracy(dev_data)"
      ],
      "metadata": {
        "colab": {
          "base_uri": "https://localhost:8080/"
        },
        "id": "BvpdiIjbJMDF",
        "outputId": "1ea59522-c3e5-458d-a88a-6c115bd6e1a5"
      },
      "execution_count": 228,
      "outputs": [
        {
          "output_type": "execute_result",
          "data": {
            "text/plain": [
              "0.9335802319227734"
            ]
          },
          "metadata": {},
          "execution_count": 228
        }
      ]
    },
    {
      "cell_type": "code",
      "source": [
        "greedy_dev_output = 'greedy_dev.out'\n",
        "\n",
        "with open(greedy_dev_output, 'w') as file:\n",
        "  for index, row in dev_data.iterrows():\n",
        "    if(row[0] == 1 and index != 0):\n",
        "      file.write('\\n')\n",
        "    file.write(str(row[0]) + \"\\t\" + row[1] + \"\\t\" + row['predict'] + '\\n')"
      ],
      "metadata": {
        "id": "Mm5xL-HLEwR9"
      },
      "execution_count": 229,
      "outputs": []
    },
    {
      "cell_type": "code",
      "source": [
        "greedy(train_data)"
      ],
      "metadata": {
        "id": "jWFjTT3pAf20"
      },
      "execution_count": 230,
      "outputs": []
    },
    {
      "cell_type": "code",
      "source": [
        "get_accuracy(train_data)"
      ],
      "metadata": {
        "colab": {
          "base_uri": "https://localhost:8080/"
        },
        "id": "S4emp-2MYoQC",
        "outputId": "bfdb1069-3661-4dd4-d81f-775c6128d832"
      },
      "execution_count": 231,
      "outputs": [
        {
          "output_type": "execute_result",
          "data": {
            "text/plain": [
              "0.9604185967470493"
            ]
          },
          "metadata": {},
          "execution_count": 231
        }
      ]
    },
    {
      "cell_type": "code",
      "source": [
        "# Predict on test data\n",
        "greedy(test_data)"
      ],
      "metadata": {
        "id": "zTasXoIp6JTi"
      },
      "execution_count": 232,
      "outputs": []
    },
    {
      "cell_type": "code",
      "source": [
        "# Get greedy output for test data and output into greedy.out file\n",
        "\n",
        "greedy_test_output = 'greedy.out'\n",
        "\n",
        "with open(greedy_test_output, 'w') as file:\n",
        "  for index, row in test_data.iterrows():\n",
        "    if(row[0] == 1 and index != 0):\n",
        "      file.write('\\n')\n",
        "    file.write(str(row[0]) + \"\\t\" + row[1] + \"\\t\" + row['predict'] + '\\n')"
      ],
      "metadata": {
        "id": "h1fIjijWCMVy"
      },
      "execution_count": 233,
      "outputs": []
    },
    {
      "cell_type": "code",
      "source": [
        "# Downloads dev.out(for my test purpose) and greedy.out file\n",
        "\n",
        "from google.colab import files\n",
        "files.download(greedy_test_output)\n",
        "files.download(greedy_dev_output)"
      ],
      "metadata": {
        "colab": {
          "base_uri": "https://localhost:8080/",
          "height": 17
        },
        "id": "mm3gZLPmDYwX",
        "outputId": "52ddcd67-0407-4133-ff0c-85ddd09b6cb3"
      },
      "execution_count": 234,
      "outputs": [
        {
          "output_type": "display_data",
          "data": {
            "text/plain": [
              "<IPython.core.display.Javascript object>"
            ],
            "application/javascript": [
              "\n",
              "    async function download(id, filename, size) {\n",
              "      if (!google.colab.kernel.accessAllowed) {\n",
              "        return;\n",
              "      }\n",
              "      const div = document.createElement('div');\n",
              "      const label = document.createElement('label');\n",
              "      label.textContent = `Downloading \"${filename}\": `;\n",
              "      div.appendChild(label);\n",
              "      const progress = document.createElement('progress');\n",
              "      progress.max = size;\n",
              "      div.appendChild(progress);\n",
              "      document.body.appendChild(div);\n",
              "\n",
              "      const buffers = [];\n",
              "      let downloaded = 0;\n",
              "\n",
              "      const channel = await google.colab.kernel.comms.open(id);\n",
              "      // Send a message to notify the kernel that we're ready.\n",
              "      channel.send({})\n",
              "\n",
              "      for await (const message of channel.messages) {\n",
              "        // Send a message to notify the kernel that we're ready.\n",
              "        channel.send({})\n",
              "        if (message.buffers) {\n",
              "          for (const buffer of message.buffers) {\n",
              "            buffers.push(buffer);\n",
              "            downloaded += buffer.byteLength;\n",
              "            progress.value = downloaded;\n",
              "          }\n",
              "        }\n",
              "      }\n",
              "      const blob = new Blob(buffers, {type: 'application/binary'});\n",
              "      const a = document.createElement('a');\n",
              "      a.href = window.URL.createObjectURL(blob);\n",
              "      a.download = filename;\n",
              "      div.appendChild(a);\n",
              "      a.click();\n",
              "      div.remove();\n",
              "    }\n",
              "  "
            ]
          },
          "metadata": {}
        },
        {
          "output_type": "display_data",
          "data": {
            "text/plain": [
              "<IPython.core.display.Javascript object>"
            ],
            "application/javascript": [
              "download(\"download_64652d8f-1824-4b8e-8ef9-0e390d666ee4\", \"greedy.out\", 1467584)"
            ]
          },
          "metadata": {}
        },
        {
          "output_type": "display_data",
          "data": {
            "text/plain": [
              "<IPython.core.display.Javascript object>"
            ],
            "application/javascript": [
              "\n",
              "    async function download(id, filename, size) {\n",
              "      if (!google.colab.kernel.accessAllowed) {\n",
              "        return;\n",
              "      }\n",
              "      const div = document.createElement('div');\n",
              "      const label = document.createElement('label');\n",
              "      label.textContent = `Downloading \"${filename}\": `;\n",
              "      div.appendChild(label);\n",
              "      const progress = document.createElement('progress');\n",
              "      progress.max = size;\n",
              "      div.appendChild(progress);\n",
              "      document.body.appendChild(div);\n",
              "\n",
              "      const buffers = [];\n",
              "      let downloaded = 0;\n",
              "\n",
              "      const channel = await google.colab.kernel.comms.open(id);\n",
              "      // Send a message to notify the kernel that we're ready.\n",
              "      channel.send({})\n",
              "\n",
              "      for await (const message of channel.messages) {\n",
              "        // Send a message to notify the kernel that we're ready.\n",
              "        channel.send({})\n",
              "        if (message.buffers) {\n",
              "          for (const buffer of message.buffers) {\n",
              "            buffers.push(buffer);\n",
              "            downloaded += buffer.byteLength;\n",
              "            progress.value = downloaded;\n",
              "          }\n",
              "        }\n",
              "      }\n",
              "      const blob = new Blob(buffers, {type: 'application/binary'});\n",
              "      const a = document.createElement('a');\n",
              "      a.href = window.URL.createObjectURL(blob);\n",
              "      a.download = filename;\n",
              "      div.appendChild(a);\n",
              "      a.click();\n",
              "      div.remove();\n",
              "    }\n",
              "  "
            ]
          },
          "metadata": {}
        },
        {
          "output_type": "display_data",
          "data": {
            "text/plain": [
              "<IPython.core.display.Javascript object>"
            ],
            "application/javascript": [
              "download(\"download_a25a0d49-8b38-4d5d-ac89-9ca2aa478926\", \"greedy_dev.out\", 1491356)"
            ]
          },
          "metadata": {}
        }
      ]
    },
    {
      "cell_type": "markdown",
      "source": [
        "#Viterbi Algorithm"
      ],
      "metadata": {
        "id": "6AulDcbT_IGS"
      }
    },
    {
      "cell_type": "code",
      "source": [
        "def viterbi(input_data):\n",
        "  prev_dp = defaultdict(float)\n",
        "  current_dp = defaultdict(float)\n",
        "  start_tag = '<S>'\n",
        "  end_tag = '<E>'\n",
        "  predictions  = []\n",
        "  current_sequence = [[] for _ in range(len(tags))]\n",
        "  prev_sequence = [[] for _ in range(len(tags))]\n",
        "  prev_value = 0\n",
        "  current_value = 0\n",
        "  cvalues = []\n",
        "  values = []\n",
        "\n",
        "  for i, row in input_data.iterrows():\n",
        "    current_index = row[0]\n",
        "    current_word = row[1]\n",
        "    if(current_index == 1):\n",
        "      if(i!=0):\n",
        "        max_prob = -1\n",
        "        j = 0\n",
        "        for tag in tags:\n",
        "          prob = current_dp[tag]*transition.get((tag, end_tag), 0.01)\n",
        "          if(prob>max_prob):\n",
        "            max_index = j\n",
        "            max_prob = prob\n",
        "          j = j+1\n",
        "        predictions.extend(current_sequence[max_index])\n",
        "        predictions.append(\"<E>\")\n",
        "\n",
        "      j = 0\n",
        "      for tag in tags:\n",
        "        current_dp[tag] = transition.get((start_tag, tag), 0.01)*emission.get((tag, current_word), 0.0001)\n",
        "        current_sequence[j] = [tag]\n",
        "        j = j+1\n",
        "    else:\n",
        "      prev_dp = defaultdict(float, current_dp)\n",
        "      for i in range(len(current_sequence)):\n",
        "        prev_sequence[i] = current_sequence[i][:]\n",
        "      j = 0\n",
        "      for c_tag in tags:\n",
        "        max_prob = -1\n",
        "        k = 0\n",
        "        for p_tag in tags:\n",
        "          prob = prev_dp[p_tag]*transition.get((p_tag, c_tag), 0.01)\n",
        "          if(prob>max_prob):\n",
        "            max_index = k\n",
        "            max_prob = prob\n",
        "          k = k+1\n",
        "        current_dp[c_tag] = max_prob*emission.get((c_tag, current_word), 0.00001)\n",
        "        current_sequence[j] = prev_sequence[max_index][:]\n",
        "        current_sequence[j].append(c_tag)\n",
        "        j = j+1\n",
        "\n",
        "\n",
        "  max_prob = -1\n",
        "  j = 0\n",
        "  for tag in tags:\n",
        "    prob = current_dp[tag]\n",
        "    if(prob>max_prob):\n",
        "      max_index = j\n",
        "      max_prob = prob\n",
        "    j = j+1\n",
        "  predictions.extend(current_sequence[max_index])\n",
        "\n",
        "  return predictions"
      ],
      "metadata": {
        "id": "_Gw1IwXm_J5H"
      },
      "execution_count": 235,
      "outputs": []
    },
    {
      "cell_type": "code",
      "source": [
        "def get_viterbi_accuracy(input_data, predictions):\n",
        "  total = 0\n",
        "  positives = 0\n",
        "  j = 0\n",
        "  for i, row in input_data.iterrows():\n",
        "    total = total + 1\n",
        "    if (predictions[j] == '<E>'):\n",
        "      j = j+1\n",
        "    #print(row[2] + \" \" + predictions[j])\n",
        "    if(row[2]==predictions[j]):\n",
        "      positives = positives + 1\n",
        "    j = j+1\n",
        "\n",
        "  print(j)\n",
        "\n",
        "  accuracy = positives/total\n",
        "  print(accuracy)"
      ],
      "metadata": {
        "id": "Dpi1G5rkxb-Z"
      },
      "execution_count": 236,
      "outputs": []
    },
    {
      "cell_type": "code",
      "source": [
        "# Run the algorithm on dev data\n",
        "\n",
        "dev_predictions = viterbi(dev_data)"
      ],
      "metadata": {
        "id": "4bF88msHfOFd"
      },
      "execution_count": 237,
      "outputs": []
    },
    {
      "cell_type": "code",
      "source": [
        "# Calculate dev accuracies\n",
        "get_viterbi_accuracy(dev_data, dev_predictions)"
      ],
      "metadata": {
        "colab": {
          "base_uri": "https://localhost:8080/"
        },
        "id": "ddcAQENdyRLO",
        "outputId": "1bd8892b-84da-4d82-ce9f-1c0c0e188bcf"
      },
      "execution_count": 238,
      "outputs": [
        {
          "output_type": "stream",
          "name": "stdout",
          "text": [
            "137294\n",
            "0.9282982211159007\n"
          ]
        }
      ]
    },
    {
      "cell_type": "code",
      "source": [
        "# predict on train\n",
        "\n",
        "train_predictions = viterbi(train_data)"
      ],
      "metadata": {
        "id": "995WExDaxnvl"
      },
      "execution_count": 239,
      "outputs": []
    },
    {
      "cell_type": "code",
      "source": [
        "# Calculate train accuracy\n",
        "\n",
        "get_viterbi_accuracy(train_data, train_predictions)"
      ],
      "metadata": {
        "colab": {
          "base_uri": "https://localhost:8080/"
        },
        "id": "D4Dik6cv3Cyg",
        "outputId": "a092c11b-e57e-4c6b-faeb-838ddb5cb8bf"
      },
      "execution_count": 240,
      "outputs": [
        {
          "output_type": "stream",
          "name": "stdout",
          "text": [
            "950312\n",
            "0.9415817431298275\n"
          ]
        }
      ]
    },
    {
      "cell_type": "code",
      "source": [
        "# Save dev predictions to viterbi_dev.out\n",
        "\n",
        "viterbi_dev_output = 'viterbi_dev.out'\n",
        "\n",
        "with open(viterbi_dev_output, 'w') as file:\n",
        "  j = 0\n",
        "  for index, row in dev_data.iterrows():\n",
        "    if(dev_predictions[j] == '<E>'):\n",
        "      file.write('\\n')\n",
        "      j = j+1\n",
        "    file.write(str(row[0]) + \"\\t\" + row[1] + \"\\t\" + dev_predictions[j] + '\\n')\n",
        "    j = j+1"
      ],
      "metadata": {
        "id": "1lTs-Q_vx7rj"
      },
      "execution_count": 241,
      "outputs": []
    },
    {
      "cell_type": "code",
      "source": [
        "#Download dev predictions\n",
        "\n",
        "files.download(viterbi_dev_output)"
      ],
      "metadata": {
        "colab": {
          "base_uri": "https://localhost:8080/",
          "height": 17
        },
        "id": "AO9cKL_1hJS1",
        "outputId": "cf537d0e-4daf-4884-db3c-4368e5bc1d6f"
      },
      "execution_count": 242,
      "outputs": [
        {
          "output_type": "display_data",
          "data": {
            "text/plain": [
              "<IPython.core.display.Javascript object>"
            ],
            "application/javascript": [
              "\n",
              "    async function download(id, filename, size) {\n",
              "      if (!google.colab.kernel.accessAllowed) {\n",
              "        return;\n",
              "      }\n",
              "      const div = document.createElement('div');\n",
              "      const label = document.createElement('label');\n",
              "      label.textContent = `Downloading \"${filename}\": `;\n",
              "      div.appendChild(label);\n",
              "      const progress = document.createElement('progress');\n",
              "      progress.max = size;\n",
              "      div.appendChild(progress);\n",
              "      document.body.appendChild(div);\n",
              "\n",
              "      const buffers = [];\n",
              "      let downloaded = 0;\n",
              "\n",
              "      const channel = await google.colab.kernel.comms.open(id);\n",
              "      // Send a message to notify the kernel that we're ready.\n",
              "      channel.send({})\n",
              "\n",
              "      for await (const message of channel.messages) {\n",
              "        // Send a message to notify the kernel that we're ready.\n",
              "        channel.send({})\n",
              "        if (message.buffers) {\n",
              "          for (const buffer of message.buffers) {\n",
              "            buffers.push(buffer);\n",
              "            downloaded += buffer.byteLength;\n",
              "            progress.value = downloaded;\n",
              "          }\n",
              "        }\n",
              "      }\n",
              "      const blob = new Blob(buffers, {type: 'application/binary'});\n",
              "      const a = document.createElement('a');\n",
              "      a.href = window.URL.createObjectURL(blob);\n",
              "      a.download = filename;\n",
              "      div.appendChild(a);\n",
              "      a.click();\n",
              "      div.remove();\n",
              "    }\n",
              "  "
            ]
          },
          "metadata": {}
        },
        {
          "output_type": "display_data",
          "data": {
            "text/plain": [
              "<IPython.core.display.Javascript object>"
            ],
            "application/javascript": [
              "download(\"download_6dbaedec-ca7a-4b76-a02d-94002b854cef\", \"viterbi_dev.out\", 1490988)"
            ]
          },
          "metadata": {}
        }
      ]
    },
    {
      "cell_type": "code",
      "source": [
        "#Predict on test data\n",
        "\n",
        "test_predictions = viterbi(test_data)"
      ],
      "metadata": {
        "id": "Cb-nsCEqx9MJ"
      },
      "execution_count": 243,
      "outputs": []
    },
    {
      "cell_type": "code",
      "source": [
        "#Save test predictions to viterbi.txt\n",
        "\n",
        "viterbi_test_output = 'viterbi.out'\n",
        "\n",
        "with open(viterbi_test_output, 'w') as file:\n",
        "  j = 0\n",
        "  for index, row in dev_data.iterrows():\n",
        "    if(dev_predictions[j] == '<E>'):\n",
        "      file.write('\\n')\n",
        "      j = j+1\n",
        "    file.write(str(row[0]) + \"\\t\" + row[1] + \"\\t\" + dev_predictions[j] + '\\n')\n",
        "    j = j+1"
      ],
      "metadata": {
        "id": "WSbogB68yapH"
      },
      "execution_count": 244,
      "outputs": []
    },
    {
      "cell_type": "code",
      "source": [
        "# Download test prediction to local system\n",
        "\n",
        "files.download(viterbi_test_output)"
      ],
      "metadata": {
        "id": "nxOpvVAUNhV0",
        "colab": {
          "base_uri": "https://localhost:8080/",
          "height": 17
        },
        "outputId": "ff2af213-2930-4993-8dd0-75c269684989"
      },
      "execution_count": 245,
      "outputs": [
        {
          "output_type": "display_data",
          "data": {
            "text/plain": [
              "<IPython.core.display.Javascript object>"
            ],
            "application/javascript": [
              "\n",
              "    async function download(id, filename, size) {\n",
              "      if (!google.colab.kernel.accessAllowed) {\n",
              "        return;\n",
              "      }\n",
              "      const div = document.createElement('div');\n",
              "      const label = document.createElement('label');\n",
              "      label.textContent = `Downloading \"${filename}\": `;\n",
              "      div.appendChild(label);\n",
              "      const progress = document.createElement('progress');\n",
              "      progress.max = size;\n",
              "      div.appendChild(progress);\n",
              "      document.body.appendChild(div);\n",
              "\n",
              "      const buffers = [];\n",
              "      let downloaded = 0;\n",
              "\n",
              "      const channel = await google.colab.kernel.comms.open(id);\n",
              "      // Send a message to notify the kernel that we're ready.\n",
              "      channel.send({})\n",
              "\n",
              "      for await (const message of channel.messages) {\n",
              "        // Send a message to notify the kernel that we're ready.\n",
              "        channel.send({})\n",
              "        if (message.buffers) {\n",
              "          for (const buffer of message.buffers) {\n",
              "            buffers.push(buffer);\n",
              "            downloaded += buffer.byteLength;\n",
              "            progress.value = downloaded;\n",
              "          }\n",
              "        }\n",
              "      }\n",
              "      const blob = new Blob(buffers, {type: 'application/binary'});\n",
              "      const a = document.createElement('a');\n",
              "      a.href = window.URL.createObjectURL(blob);\n",
              "      a.download = filename;\n",
              "      div.appendChild(a);\n",
              "      a.click();\n",
              "      div.remove();\n",
              "    }\n",
              "  "
            ]
          },
          "metadata": {}
        },
        {
          "output_type": "display_data",
          "data": {
            "text/plain": [
              "<IPython.core.display.Javascript object>"
            ],
            "application/javascript": [
              "download(\"download_386afe8f-94d9-4bf4-b1b1-393446405f49\", \"viterbi.out\", 1490988)"
            ]
          },
          "metadata": {}
        }
      ]
    },
    {
      "cell_type": "code",
      "source": [],
      "metadata": {
        "id": "m6Y1k-vP8KOm"
      },
      "execution_count": null,
      "outputs": []
    }
  ]
}