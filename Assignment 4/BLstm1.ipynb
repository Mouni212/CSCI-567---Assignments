{
 "cells": [
  {
   "cell_type": "code",
   "execution_count": 1,
   "id": "f4cdf521-be26-421d-acf8-b518a2fc1466",
   "metadata": {},
   "outputs": [],
   "source": [
    "import pandas as pd\n",
    "import numpy as np\n",
    "import re"
   ]
  },
  {
   "cell_type": "code",
   "execution_count": 2,
   "id": "a8f5c8aa-4d76-4052-8b33-fbb2c37ef2e4",
   "metadata": {},
   "outputs": [
    {
     "name": "stdout",
     "output_type": "stream",
     "text": [
      "                                            sentence  \\\n",
      "0   EU rejects German call to boycott British lamb .   \n",
      "1                                    Peter Blackburn   \n",
      "2                                BRUSSELS 1996-08-22   \n",
      "3  The European Commission said on Thursday it di...   \n",
      "4  Germany 's representative to the European Unio...   \n",
      "\n",
      "                                                tags  \n",
      "0                    B-ORG O B-MISC O O O B-MISC O O  \n",
      "1                                        B-PER I-PER  \n",
      "2                                            B-LOC O  \n",
      "3  O B-ORG I-ORG O O O O O O B-MISC O O O O O B-M...  \n",
      "4  B-LOC O O O O B-ORG I-ORG O O O B-PER I-PER O ...  \n"
     ]
    }
   ],
   "source": [
    "import pandas as pd\n",
    "\n",
    "train_path = r'data/train'\n",
    "\n",
    "def process_input_from_file(file_path):\n",
    "    sentences = []\n",
    "    tags = []\n",
    "    unique_words = []\n",
    "    unique_tags = []\n",
    "    with open(file_path, 'r') as file:\n",
    "        data_blocks = file.read().strip().split('\\n\\n')\n",
    "        \n",
    "        for block in data_blocks:\n",
    "            words = []\n",
    "            word_tags = []\n",
    "            for line in block.split('\\n'):\n",
    "                _, word, tag = line.split()\n",
    "                words.append(word)\n",
    "                word_tags.append(tag)\n",
    "                if word not in unique_words:\n",
    "                    unique_words.append(word)\n",
    "                if tag not in unique_tags:\n",
    "                    unique_tags.append(tag)\n",
    "            sentences.append(' '.join(words))\n",
    "            tags.append(' '.join(word_tags))\n",
    "    \n",
    "    return pd.DataFrame({\n",
    "        'sentence': sentences,\n",
    "        'tags': tags\n",
    "    }), list(unique_words), list(unique_tags)\n",
    "\n",
    "train_data_df, unique_words, unique_tags = process_input_from_file(train_path)\n",
    "print(train_data_df.head())\n"
   ]
  },
  {
   "cell_type": "code",
   "execution_count": 3,
   "id": "305a6c68-075c-4486-a6c2-651a25452c33",
   "metadata": {},
   "outputs": [],
   "source": [
    "device = \"cuda\""
   ]
  },
  {
   "cell_type": "code",
   "execution_count": 4,
   "id": "755e8f1e-a89c-4c7e-9436-184346c0c74e",
   "metadata": {},
   "outputs": [],
   "source": [
    "vocab_size = len(unique_words)\n",
    "tag_size = len(unique_tags)"
   ]
  },
  {
   "cell_type": "code",
   "execution_count": 5,
   "id": "c79880d8-7048-4930-beec-68fd5a27ba88",
   "metadata": {},
   "outputs": [],
   "source": [
    "word_to_idx = {}\n",
    "tag_to_idx = {}\n",
    "\n",
    "for i in range(vocab_size):\n",
    "  word_to_idx[unique_words[i]] = i+1\n",
    "word_to_idx['<UNK>'] = 0\n",
    "\n",
    "for i in range(tag_size):\n",
    "  tag_to_idx[unique_tags[i]] = i"
   ]
  },
  {
   "cell_type": "code",
   "execution_count": 6,
   "id": "26297096-f313-457b-9ce1-6a36d0f5c124",
   "metadata": {},
   "outputs": [],
   "source": [
    "import torch\n",
    "\n",
    "max_size = train_data_df['sentence'].map(lambda x: len(x.split())).max()\n",
    "def prepare_sequence(seq, to_ix):\n",
    "    words = seq.split(\" \")\n",
    "    idxs = []\n",
    "    for w in words:\n",
    "        if w in to_ix:\n",
    "            idxs.append(to_ix[w])\n",
    "        else:\n",
    "            idxs.append(0)\n",
    "    return idxs"
   ]
  },
  {
   "cell_type": "code",
   "execution_count": 7,
   "id": "40c16ee4-3976-4b75-833f-d528bc7802d9",
   "metadata": {},
   "outputs": [],
   "source": [
    "train_data_df['words_numerical'] = train_data_df['sentence'].map(lambda seq: prepare_sequence(seq, word_to_idx))\n",
    "train_data_df[\"tags_numerical\"] = train_data_df['tags'].map(lambda tags: prepare_sequence(tags, tag_to_idx))"
   ]
  },
  {
   "cell_type": "code",
   "execution_count": 8,
   "id": "ff4eb4a1-0b35-4935-bb4b-c4bab0a141c7",
   "metadata": {},
   "outputs": [],
   "source": [
    "# train_data_df = train_data_df.to(device)"
   ]
  },
  {
   "cell_type": "code",
   "execution_count": 59,
   "id": "e9f1c198-752a-49d7-809c-7c51b8a0a9c8",
   "metadata": {},
   "outputs": [],
   "source": [
    "from torch.utils.data import Dataset, DataLoader, TensorDataset\n",
    "from torch.nn.utils.rnn import pad_sequence\n",
    "\n",
    "class NERDataset(Dataset):\n",
    "    def __init__(self, sentences, tags = None):\n",
    "        self.sentences = sentences\n",
    "        self.tags = tags\n",
    "    def __len__(self):\n",
    "        return len(self.sentences)\n",
    "\n",
    "    def __getitem__(self, idx):\n",
    "        sentence = torch.tensor(self.sentences.iloc[idx], dtype=torch.long)\n",
    "        if self.tags is not None:\n",
    "            tag = torch.tensor(self.tags.iloc[idx], dtype=torch.long)\n",
    "            return sentence, tag, len(sentence)\n",
    "        else:\n",
    "            return sentence, len(sentence)\n",
    "\n",
    "train_dataset = NERDataset(train_data_df[\"words_numerical\"], train_data_df[\"tags_numerical\"])\n",
    "\n",
    "def pad_collate(batch):\n",
    "    (sentences, tags, lengths) = zip(*batch)\n",
    "    \n",
    "    sentences_padded = pad_sequence(sentences, batch_first=True, padding_value=word_to_idx['<UNK>'])\n",
    "    tags_padded = pad_sequence(tags, batch_first=True, padding_value=tag_to_idx['O'])  # Use the index of the 'O' tag or a suitable PAD token\n",
    "    \n",
    "    return sentences_padded, tags_padded, torch.tensor(lengths)\n",
    "    \n",
    "batch_size = 16\n",
    "train_loader = DataLoader(train_dataset, batch_size=batch_size, collate_fn=pad_collate) #.to(device)"
   ]
  },
  {
   "cell_type": "code",
   "execution_count": 20,
   "id": "b916cdca-cf7b-4877-9de7-9a106cd19d65",
   "metadata": {},
   "outputs": [],
   "source": [
    "import torch.nn as nn\n",
    "import torch.nn.functional as F\n",
    "\n",
    "class Net(nn.Module):\n",
    "  def __init__(self, vocab_size, embedding_size, hidden_dim, output_dim):\n",
    "    super(Net, self).__init__()\n",
    "    self.embedding = nn.Embedding(vocab_size+1, embedding_size)\n",
    "    self.biLstm = nn.LSTM(embedding_size, hidden_dim, bidirectional=True, num_layers = 1, batch_first=True)\n",
    "    self.fc = nn.Linear(hidden_dim*2, 128)\n",
    "    self.dropout = nn.Dropout(0.33)\n",
    "    self.classifier = nn.Linear(128, 9)\n",
    "  def forward(self, sentence):\n",
    "    embedding = self.embedding(sentence)\n",
    "    lstm_out, (h_o, c_o) = self.biLstm(embedding)  #.view(len(sentence), 1, -1))\n",
    "    lstm_out = self.dropout(lstm_out)\n",
    "    dense_output = self.fc(lstm_out) #.view(len(sentence), -1))\n",
    "    dense_output = self.dropout(dense_output)\n",
    "    activations = F.elu(dense_output)\n",
    "    final_outputs = self.classifier(activations)\n",
    "    return final_outputs"
   ]
  },
  {
   "cell_type": "code",
   "execution_count": 60,
   "id": "2ae5cfd9-f2ca-493c-8cc2-5fb0e0804b9b",
   "metadata": {},
   "outputs": [
    {
     "name": "stdout",
     "output_type": "stream",
     "text": [
      "0\n",
      "Epoch 1/30, Loss: 0.3186448924124177\n",
      "1\n",
      "Epoch 2/30, Loss: 0.19678421428659681\n",
      "2\n",
      "Epoch 3/30, Loss: 0.13050801078058388\n",
      "3\n",
      "Epoch 4/30, Loss: 0.09284230703940236\n",
      "4\n",
      "Epoch 5/30, Loss: 0.07130854201656911\n",
      "5\n",
      "Epoch 6/30, Loss: 0.05570161289625166\n",
      "6\n",
      "Epoch 7/30, Loss: 0.04505133934944829\n",
      "7\n",
      "Epoch 8/30, Loss: 0.037440801646628205\n",
      "8\n",
      "Epoch 9/30, Loss: 0.03133872611202914\n",
      "9\n",
      "Epoch 10/30, Loss: 0.026457448695507868\n",
      "10\n",
      "Epoch 11/30, Loss: 0.023357883901427394\n",
      "11\n",
      "Epoch 12/30, Loss: 0.020540290834278465\n",
      "12\n",
      "Epoch 13/30, Loss: 0.0176983676967809\n",
      "13\n",
      "Epoch 14/30, Loss: 0.01584639774013953\n",
      "14\n",
      "Epoch 15/30, Loss: 0.013511118284606192\n",
      "15\n",
      "Epoch 16/30, Loss: 0.01247414777386\n",
      "16\n",
      "Epoch 17/30, Loss: 0.010967981023804604\n",
      "17\n",
      "Epoch 18/30, Loss: 0.010288587873920318\n",
      "18\n",
      "Epoch 19/30, Loss: 0.009535539873275552\n",
      "19\n",
      "Epoch 20/30, Loss: 0.008678954895770023\n",
      "20\n",
      "Epoch 21/30, Loss: 0.0077280180795419534\n",
      "21\n",
      "Epoch 22/30, Loss: 0.007589818214478886\n",
      "22\n",
      "Epoch 23/30, Loss: 0.007030805836800002\n",
      "23\n",
      "Epoch 24/30, Loss: 0.006404622553580061\n",
      "24\n",
      "Epoch 25/30, Loss: 0.0065009895231957025\n",
      "25\n",
      "Epoch 26/30, Loss: 0.00584752233837218\n",
      "26\n",
      "Epoch 27/30, Loss: 0.005408967552800492\n",
      "27\n",
      "Epoch 28/30, Loss: 0.0052663596100531885\n",
      "28\n",
      "Epoch 29/30, Loss: 0.005130947503318703\n",
      "29\n",
      "Epoch 30/30, Loss: 0.004610698325789962\n"
     ]
    }
   ],
   "source": [
    "import torch.optim as optim\n",
    "\n",
    "\n",
    "num_of_epoch = 30\n",
    "embedding_size = 100\n",
    "hidden_dim = 256\n",
    "rho=0.05\n",
    "\n",
    "model = Net(vocab_size, embedding_size, hidden_dim, tag_size).to(device)\n",
    "loss_function = nn.CrossEntropyLoss()\n",
    "optimiser = optim.SGD(model.parameters(), lr=0.3, momentum=0.85)\n",
    "scheduler = optim.lr_scheduler.ExponentialLR(optimiser, gamma=1-rho)\n",
    "\n",
    "for epoch in range(num_of_epoch):\n",
    "  print(epoch)\n",
    "  model.train()\n",
    "  total_loss = 0\n",
    "  for sentence, tags, lengths in train_loader:\n",
    "    model.zero_grad()\n",
    "    sentence = sentence.to(device)\n",
    "    tags = tags.to(device)\n",
    "    tag_scores = model(sentence)\n",
    "    tag_scores = tag_scores.view(-1, tag_scores.shape[-1])\n",
    "    tags = tags.view(-1)\n",
    "    loss = loss_function(tag_scores, tags)\n",
    "    loss.backward()\n",
    "    optimiser.step()\n",
    "    total_loss += loss.item()\n",
    "  print(f\"Epoch {epoch+1}/{num_of_epoch}, Loss: {total_loss/len(train_loader)}\")\n",
    "  scheduler.step()"
   ]
  },
  {
   "cell_type": "code",
   "execution_count": 70,
   "id": "de5c0c73-92b7-4885-937d-1ed6adc12138",
   "metadata": {},
   "outputs": [],
   "source": [
    "dev_path = r'data/dev'\n",
    "dev_data_df, w, t = process_input_from_file(dev_path)\n",
    "dev_data_df['words_numerical'] = dev_data_df['sentence'].map(lambda seq: prepare_sequence(seq, word_to_idx))\n",
    "dev_data_df[\"tags_numerical\"] = dev_data_df['tags'].map(lambda tags: prepare_sequence(tags, tag_to_idx))\n",
    "\n",
    "dev_dataset = NERDataset(dev_data_df[\"words_numerical\"], dev_data_df[\"tags_numerical\"])\n",
    "dev_loader = DataLoader(dev_dataset, batch_size=64, collate_fn=pad_collate)"
   ]
  },
  {
   "cell_type": "code",
   "execution_count": 71,
   "id": "85e4115d-9845-4213-a73d-2bea4a1478a4",
   "metadata": {},
   "outputs": [],
   "source": [
    "idx_to_vocab = {idx: word for word, idx in word_to_idx.items()}\n",
    "idx_to_tag = {idx: tag for tag, idx in tag_to_idx.items()}\n",
    "\n",
    "def write_predictions_to_file(model, data_loader, idx_to_tag, output_file_path, original_dev_sentences):\n",
    "    model.eval()\n",
    "    predictions = []\n",
    "\n",
    "    with torch.no_grad():\n",
    "        for batch_idx, (sentence_tensors, tags_tensors, lengths) in enumerate(data_loader):\n",
    "            sentence_tensors = sentence_tensors.to(device)\n",
    "            tags_tensors = tags_tensors.to(device)\n",
    "            outputs = model(sentence_tensors)\n",
    "            predicted_tag_indices = torch.argmax(outputs, dim=2)\n",
    "\n",
    "            for i, length in enumerate(lengths):\n",
    "                original_sentence = original_dev_sentences[batch_idx * data_loader.batch_size + i].split()\n",
    "                for j in range(length):\n",
    "                    original_word = original_sentence[j]\n",
    "                    predicted_tag_index = predicted_tag_indices[i][j].item()\n",
    "                    predicted_tag = idx_to_tag[predicted_tag_index]\n",
    "                    predictions.append(f\"{j+1} {original_word} {predicted_tag}\\n\")\n",
    "                predictions.append(\"\\n\")\n",
    "\n",
    "    with open(output_file_path, 'w') as writer:\n",
    "        writer.writelines(predictions)\n",
    "\n",
    "    print(f\"Predictions written to {output_file_path}\")"
   ]
  },
  {
   "cell_type": "code",
   "execution_count": 72,
   "id": "8719d632-a59e-48b7-9f80-29f2fd0ad28b",
   "metadata": {},
   "outputs": [
    {
     "name": "stdout",
     "output_type": "stream",
     "text": [
      "Predictions written to dev_predictions_mon.txt\n",
      "processed 51578 tokens with 5942 phrases; found: 4465 phrases; correct: 3773.\n",
      "accuracy:  93.80%; precision:  84.50%; recall:  63.50%; FB1:  72.51\n",
      "              LOC: precision:  91.23%; recall:  78.12%; FB1:  84.16  1573\n",
      "             MISC: precision:  90.11%; recall:  73.10%; FB1:  80.72  748\n",
      "              ORG: precision:  80.60%; recall:  62.27%; FB1:  70.26  1036\n",
      "              PER: precision:  74.82%; recall:  45.01%; FB1:  56.20  1108\n"
     ]
    }
   ],
   "source": [
    "# Define the path to the output file for predictions\n",
    "output_file_path_glove = 'dev_predictions_mon.txt'\n",
    "\n",
    "# Write predictions to the file\n",
    "write_predictions_to_file(model, dev_loader, idx_to_tag, output_file_path_glove, dev_data_df['sentence'])\n",
    "\n",
    "# Define the paths to the predicted file and gold-standard file\n",
    "predicted_file_path_glove = output_file_path_glove\n",
    "gold_standard_file_path = 'data/dev'\n",
    "\n",
    "# Run the eval.py script with the specified files\n",
    "!python eval.py -p {predicted_file_path_glove} -g {gold_standard_file_path}\n",
    "\n"
   ]
  },
  {
   "cell_type": "code",
   "execution_count": 73,
   "id": "9c7ca69b-eb8b-48a2-bd0e-10cd8958064c",
   "metadata": {},
   "outputs": [],
   "source": [
    "torch.save(model.state_dict(), 'blstm1.pt')"
   ]
  },
  {
   "cell_type": "code",
   "execution_count": null,
   "id": "e292ffca-6b1f-467a-814a-49e2ffd8882a",
   "metadata": {},
   "outputs": [],
   "source": []
  }
 ],
 "metadata": {
  "kernelspec": {
   "display_name": "Python 3 (ipykernel)",
   "language": "python",
   "name": "python3"
  },
  "language_info": {
   "codemirror_mode": {
    "name": "ipython",
    "version": 3
   },
   "file_extension": ".py",
   "mimetype": "text/x-python",
   "name": "python",
   "nbconvert_exporter": "python",
   "pygments_lexer": "ipython3",
   "version": "3.12.2"
  }
 },
 "nbformat": 4,
 "nbformat_minor": 5
}
